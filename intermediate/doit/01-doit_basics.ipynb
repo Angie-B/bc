{
 "metadata": {
  "name": ""
 },
 "nbformat": 3,
 "nbformat_minor": 0,
 "worksheets": [
  {
   "cells": [
    {
     "cell_type": "heading",
     "level": 2,
     "metadata": {},
     "source": [
      "Automating Tasks With \"doit\""
     ]
    },
    {
     "cell_type": "markdown",
     "metadata": {},
     "source": [
      "We're starting a project where we need to do some analysis of climate data. This analysis is going to require a number of steps, which all have to be carried out in the correct order. Our data is also updating all the time with new readings, so we don't want to have to keep track of which steps we have or have not remembered to re-run every time we update the source data.\n",
      "\n",
      "Let's start by looking at the raw data we have to work with. There are two files containing data on monthly mean temperature and monthly total sunshine hours:"
     ]
    },
    {
     "cell_type": "code",
     "collapsed": false,
     "input": [
      "!ls *.txt"
     ],
     "language": "python",
     "metadata": {},
     "outputs": [
      {
       "output_type": "stream",
       "stream": "stdout",
       "text": [
        "UK_Sunshine_data.txt  UK_Tmean_data.txt\r\n"
       ]
      }
     ],
     "prompt_number": 1
    },
    {
     "cell_type": "markdown",
     "metadata": {},
     "source": [
      "Now let's peek inside the mean temperatures file using head:"
     ]
    },
    {
     "cell_type": "code",
     "collapsed": false,
     "input": [
      "!head UK_Tmean_data.txt"
     ],
     "language": "python",
     "metadata": {},
     "outputs": [
      {
       "output_type": "stream",
       "stream": "stdout",
       "text": [
        "UK Mean Temperature (Degrees C)\r\n",
        "Areal series, starting from 1910\r\n",
        "Allowances have been made for topographic, coastal and urban effects where relationships are found to exist.\r\n",
        "Seasons: Winter=Dec-Feb, Spring=Mar-May, Summer=June-Aug, Autumn=Sept-Nov. (Winter: Year refers to Jan/Feb).\r\n",
        "Monthly values are ranked and displayed to 1 dp and seasonal/annual values to 2 dp. Where values are equal, rankings are based in order of year descending.\r\n",
        "Data are provisional from January 2012 & Winter 2012 Last updated 01/12/2012\r\n",
        "\r\n",
        "\tJAN\tYear\tFEB\tYear\tMAR\tYear\tAPR\tYear\tMAY\tYear\tJUN\tYear\tJUL\tYear\tAUG\tYear\tSEP\tYear\tOCT\tYear\tNOV\tYear\tDEC\tYear\tWIN\tYear\tSPR\tYear\tSUM\tYear\tAUT\tYear\tANN\tYear\r\n",
        "\t6.3\t1916\t6.8\t1998\t8\t1938\t10.7\t2011\t12.2\t2008\t15\t1976\t17.8\t2006\t17.3\t1995\t15.2\t2006\t12.2\t2001\t8.8\t1994\t6.9\t1934\t5.81\t1989\t9.15\t2011\t15.78\t2006\t11.39\t2006\t9.73\t2006\r\n",
        "\t5.9\t2007\t5.9\t1990\t7.9\t1957\t10.2\t2007\t12\t1992\t14.9\t1940\t17.3\t1983\t17.1\t1997\t14.6\t1949\t11.8\t1969\t8.7\t2011\t6.6\t1988\t5.56\t2007\t9.05\t2007\t15.77\t2003\t11.26\t2011\t9.64\t2011\r\n"
       ]
      }
     ],
     "prompt_number": 2
    },
    {
     "cell_type": "markdown",
     "metadata": {},
     "source": [
      "The data in this file is organized in a pretty terrible way. There are seven lines at the beginning of the file which explain the structure of the data, which is helpful (although it would be even better if they started with a comment character like #).\n",
      "\n",
      "Essentially, there are two columns per month. The first column contains the mean temperature for that month and the second contains the year of the measurements. Every column is ordered by increasing temperature.\n",
      "\n",
      "Thankfully, an old grad student left us a python script that can massage this data into a more useful format. Let's have a look at what this does:"
     ]
    },
    {
     "cell_type": "code",
     "collapsed": false,
     "input": [
      "!python reformat_weather_data.py UK_Tmean_data.txt | head"
     ],
     "language": "python",
     "metadata": {},
     "outputs": [
      {
       "output_type": "stream",
       "stream": "stdout",
       "text": [
        "month,value\r\n",
        "1910-01-01,2.6\r\n",
        "1910-02-01,2.6\r\n",
        "1910-03-01,4.0\r\n",
        "1910-04-01,6.4\r\n",
        "1910-05-01,9.5\r\n",
        "1910-06-01,12.3\r\n",
        "1910-07-01,14.0\r\n",
        "1910-08-01,13.8\r\n",
        "1910-09-01,11.8\r\n"
       ]
      }
     ],
     "prompt_number": 4
    },
    {
     "cell_type": "markdown",
     "metadata": {},
     "source": [
      "Much better. The first task in our analysis pipeline is to run this python script on the file `UK_Tmean_data.txt` and save it as a new file, `UK_Tmean_data.reformatted.txt`. We want to use the \"doit\" library for python to automatically perform this reformatting every time the raw data is updated.\n",
      "\n",
      "First make sure doit is installed:"
     ]
    },
    {
     "cell_type": "code",
     "collapsed": false,
     "input": [
      "!pip install doit"
     ],
     "language": "python",
     "metadata": {},
     "outputs": [
      {
       "output_type": "stream",
       "stream": "stdout",
       "text": [
        "Requirement already satisfied (use --upgrade to upgrade): doit in /usr/local/lib/python2.7/dist-packages\r\n",
        "Requirement already satisfied (use --upgrade to upgrade): six in /usr/local/lib/python2.7/dist-packages (from doit)\r\n",
        "Requirement already satisfied (use --upgrade to upgrade): pyinotify in /usr/lib/python2.7/dist-packages (from doit)\r\n",
        "Cleaning up...\r\n"
       ]
      }
     ],
     "prompt_number": 5
    },
    {
     "cell_type": "markdown",
     "metadata": {},
     "source": [
      "Normally, we make a file containing the details of all our tasks inside of a python file. If you have had some experience of  make, this file is the equivalent of a makefile. If we then run the command `doit` in our terminal, doit will look for a configuration file called dodo.py in the current directory, read the tasks from the file and execute out those which are out of date. We can also use `doit -f <name_of_task_file.py>` to get doit to read a file which is not called dodo.py.\n",
      "\n",
      "For the sake of convenience in this lesson, I'll be using some iPython magic to run doit code from the iPython notebook. In each case, the contents of the cell corresponds to what you would put in your `dodo.py` file."
     ]
    },
    {
     "cell_type": "code",
     "collapsed": false,
     "input": [
      "%load_ext doitmagic"
     ],
     "language": "python",
     "metadata": {},
     "outputs": [],
     "prompt_number": 6
    },
    {
     "cell_type": "markdown",
     "metadata": {},
     "source": [
      "Here is our first doit file, containing just one task:"
     ]
    },
    {
     "cell_type": "code",
     "collapsed": false,
     "input": [
      "%%doit list\n",
      "\n",
      "# one_task.py\n",
      "\n",
      "def task_reformat_temperature_data():\n",
      "    \"\"\"Reformats the raw temperature data file for easier analysis\"\"\"\n",
      "    \n",
      "    return {\n",
      "        'file_dep': ['UK_Tmean_data.txt'],\n",
      "        'targets': ['UK_Tmean_data.reformatted.txt'],\n",
      "        'actions': ['python reformat_weather_data.py UK_Tmean_data.txt > UK_Tmean_data.reformatted.txt'],\n",
      "    }\n"
     ],
     "language": "python",
     "metadata": {},
     "outputs": [
      {
       "output_type": "stream",
       "stream": "stdout",
       "text": [
        "reformat_temperature_data   Reformats the raw temperature data file for easier analysis\n"
       ]
      }
     ],
     "prompt_number": 31
    },
    {
     "cell_type": "markdown",
     "metadata": {},
     "source": [
      "The first line, starting with #, is a comment. (Our comments should be more meaningful than just the name of the file.) The python function defines a single task that we want doit to carry out. All the function does is return a dictionary containing the configuration for this task. Lets look in more detail at the components of this configuration:\n",
      "\n",
      "The task has one file dependency, or `file_dep` - this tells doit that the task depends on the `UK_Tmean_data.txt` file, so if that file has changed we need to re-run the task. \n",
      "\n",
      "It also has one `target` - this tells doit that the task creates the `UK_Tmean_data.reformatted.txt` file. If the `UK_Tmean_data.reformatted.txt` file doesn't exist, we need to run this task to create it. \n",
      "\n",
      "Finally, the task has one `action`. The `actions` part of the task definition is a list of commands to run when doit determines that the task is not up to date.\n",
      "\n",
      "Now let's look at doit's output. Doit shows the name of each task on a seperate line, and since we only gave it one task we only get one line. Since we didn't explicitly give our task a name, doit guesses the name from the function name. The dot (`.`) before the task name means that doit determined that the task was actually run. We can run that cell again and see what changes.\n",
      "\n",
      "Now the task name is preceded by two dashes (`--`), which means that doit found our task, but since the `UK_Tmean_data.reformatted.txt` file already exists and the `UK_Tmean_data.txt` file hasn't changed, it didn't run the task again.\n",
      "\n",
      "We should check the new file to make sure that the task we wrote does what we want:"
     ]
    },
    {
     "cell_type": "code",
     "collapsed": false,
     "input": [
      "!head UK_Tmean_data.reformatted.txt"
     ],
     "language": "python",
     "metadata": {},
     "outputs": [
      {
       "output_type": "stream",
       "stream": "stdout",
       "text": [
        "month,value\r\n",
        "1910-01-01,2.6\r\n",
        "1910-02-01,2.6\r\n",
        "1910-03-01,4.0\r\n",
        "1910-04-01,6.4\r\n",
        "1910-05-01,9.5\r\n",
        "1910-06-01,12.3\r\n",
        "1910-07-01,14.0\r\n",
        "1910-08-01,13.8\r\n",
        "1910-09-01,11.8\r\n"
       ]
      }
     ],
     "prompt_number": 8
    },
    {
     "cell_type": "markdown",
     "metadata": {},
     "source": [
      "If we were only allowed one rule per file, this wouldn't be any simpler than typing commands by hand or putting them in little shell scripts. Luckily, doit allows us to put any number of rules in a single configuration file. \n",
      "\n",
      "Here is another doit file called two_tasks.py with rules to reformat both `UK_Tmean_data.txt` and `UK_Sunshine_data.txt`. These rules are identical except for the \"Tmean\" or \"Sunshine\" in the filenames; we'll see later how to combine these rules into one."
     ]
    },
    {
     "cell_type": "code",
     "collapsed": false,
     "input": [
      "%%doit\n",
      "\n",
      "# two_tasks.py\n",
      "\n",
      "def task_reformat_temperature_data():\n",
      "    \"\"\"Reformats the raw temperature data file for easier analysis\"\"\"\n",
      "        \n",
      "    return {\n",
      "        'file_dep': ['UK_Tmean_data.txt'],\n",
      "        'targets': ['UK_Tmean_data.reformatted.txt'],\n",
      "        'actions': ['python reformat_weather_data.py UK_Tmean_data.txt > UK_Tmean_data.reformatted.txt'],\n",
      "}\n",
      "\n",
      "def task_reformat_sunshine_data():\n",
      "    \"\"\"Reformats the raw sunshine data file for easier analysis\"\"\"\n",
      "\n",
      "    return {\n",
      "        'file_dep': ['UK_Sunshine_data.txt'],\n",
      "        'targets': ['UK_Sunshine_data.reformatted.txt'],\n",
      "        'actions': ['python reformat_weather_data.py UK_Sunshine_data.txt > UK_Sunshine_data.reformatted.txt'],\n",
      "    }"
     ],
     "language": "python",
     "metadata": {},
     "outputs": [
      {
       "output_type": "stream",
       "stream": "stdout",
       "text": [
        "-- reformat_temperature_data\n",
        ".  reformat_sunshine_data\n"
       ]
      }
     ],
     "prompt_number": 9
    },
    {
     "cell_type": "markdown",
     "metadata": {},
     "source": [
      "Now we see that doit found both of our tasks. It determined that it didn't need to run the task that reformats the temperature data, but it did run our new task that reformats the sunshine data.\n",
      "\n",
      "If we run the cell again, we should see that now doit decides it doesn't need to run either task.\n",
      "\n",
      "One thing to note is that if there is no dependency to satisfy between the tasks then doit executes them in the order they are defined. It could also execute them in parallel if it had more than one processor to use - we'll return to this idea later.\n",
      "\n",
      "Something else this example shows us is that a single thing can be a target in one rule, and a prerequisite in others. The dependencies between the files mentioned in the dodo.py make up a directed graph. In order for doit to run, this graph must not contain any cycles. For example, if X depends on Y, Y depends on Z, and Z depends on X, everything depends on something else, so there is nothing doit can execute first. If it detects a cycle in between tasks, doit will print an error message and stop.\n",
      "\n",
      "As we noted earlier, there is a lot of redundancy in this file. Firstly, the file names are repeated in the task definition and the task's action. Luckily, doit gives us access to some variables when we are writing our tasks actions.\n",
      "\n",
      "Doit uses python's `%` formatter to substitute a task's dependencies and targets in the string which defines the action. It works like this:"
     ]
    },
    {
     "cell_type": "code",
     "collapsed": false,
     "input": [
      "%%doit\n",
      "\n",
      "# automatic_variables.py\n",
      "\n",
      "def task_reformat_temperature_data():\n",
      "    \"\"\"Reformats the raw temperature data file for easier analysis\"\"\"\n",
      "    \n",
      "    return {\n",
      "        'actions': ['python reformat_weather_data.py %(dependencies)s > %(targets)s'],\n",
      "        'file_dep': ['UK_Tmean_data.txt'],\n",
      "        'targets': ['UK_Tmean_data.reformatted.txt'],\n",
      "    }\n",
      "\n",
      "def task_reformat_sunshine_data():\n",
      "    \"\"\"Reformats the raw sunshine data file for easier analysis\"\"\"\n",
      "    \n",
      "    return {\n",
      "        'actions': ['python reformat_weather_data.py %(dependencies)s > %(targets)s'],\n",
      "        'file_dep': ['UK_Sunshine_data.txt'],\n",
      "        'targets': ['UK_Sunshine_data.reformatted.txt'],\n",
      "    }"
     ],
     "language": "python",
     "metadata": {},
     "outputs": [
      {
       "output_type": "stream",
       "stream": "stdout",
       "text": [
        "-- reformat_temperature_data\n",
        "-- reformat_sunshine_data\n"
       ]
      }
     ],
     "prompt_number": 11
    },
    {
     "cell_type": "markdown",
     "metadata": {},
     "source": [
      "This is better, but now the action is identical between the two tasks. Only the dependency and the target are different.\n",
      "\n",
      "When we want to run a large number of very similar tasks, we can make use of a doit feature called 'sub-tasks':"
     ]
    },
    {
     "cell_type": "code",
     "collapsed": false,
     "input": [
      "%%doit\n",
      "\n",
      "# sub_tasks.py\n",
      "\n",
      "data_sets = ['Tmean', 'Sunshine']\n",
      "\n",
      "def task_reformat_data():\n",
      "    \"\"\"Reformats all raw files for easier analysis\"\"\"\n",
      "\n",
      "    for data_type in data_sets:\n",
      "        yield {\n",
      "            'actions': ['python reformat_weather_data.py %(dependencies)s > %(targets)s'],\n",
      "            'file_dep': ['UK_{}_data.txt'.format(data_type)],\n",
      "            'targets': ['UK_{}_data.reformatted.txt'.format(data_type)],\n",
      "            'name': 'UK_{}_data.txt'.format(data_type),\n",
      "        }\n",
      "    "
     ],
     "language": "python",
     "metadata": {},
     "outputs": [
      {
       "output_type": "stream",
       "stream": "stdout",
       "text": [
        "-- reformat_data:UK_Sunshine_data.txt\n",
        "-- reformat_data:UK_Tmean_data.txt\n"
       ]
      }
     ],
     "prompt_number": 34
    },
    {
     "cell_type": "markdown",
     "metadata": {},
     "source": [
      "In this example, the function defining the task doesn't return a single task. Instead it returns a python generator object, which then returns a number of sub-tasks. Has anyone heard of generators in python?\n",
      "\n",
      "If not, here is a small demonstration:"
     ]
    },
    {
     "cell_type": "code",
     "collapsed": false,
     "input": [
      "def not_a_generator():\n",
      "    for i in range(5):\n",
      "        return i\n",
      "    \n",
      "not_a_generator()"
     ],
     "language": "python",
     "metadata": {},
     "outputs": [
      {
       "metadata": {},
       "output_type": "pyout",
       "prompt_number": 13,
       "text": [
        "0"
       ]
      }
     ],
     "prompt_number": 13
    },
    {
     "cell_type": "code",
     "collapsed": false,
     "input": [
      "def is_a_generator():\n",
      "    for i in range(5):\n",
      "        yield i\n",
      "        \n",
      "is_a_generator()"
     ],
     "language": "python",
     "metadata": {},
     "outputs": [
      {
       "metadata": {},
       "output_type": "pyout",
       "prompt_number": 14,
       "text": [
        "<generator object is_a_generator at 0x1f01780>"
       ]
      }
     ],
     "prompt_number": 14
    },
    {
     "cell_type": "code",
     "collapsed": false,
     "input": [
      "def is_a_generator():\n",
      "    for i in range(5):\n",
      "        yield i\n",
      "        \n",
      "g = is_a_generator()\n",
      "\n",
      "for x in g:\n",
      "    print x"
     ],
     "language": "python",
     "metadata": {},
     "outputs": [
      {
       "output_type": "stream",
       "stream": "stdout",
       "text": [
        "0\n",
        "1\n",
        "2\n",
        "3\n",
        "4\n"
       ]
      }
     ],
     "prompt_number": 15
    },
    {
     "cell_type": "markdown",
     "metadata": {},
     "source": [
      "I'm not going to go into lots of detail about generators in this lesson, but the essential thing to remember is that a function uses `return` to return a single output, whilst a generator uses `yield` to return a sequence of outputs in order. When doit finds a generator that yields task dictionaries, it creates a series of sub-tasks.\n",
      "\n",
      "Take a look at the output of our file again. All the tasks generated by our new generator start with the same name: `reformat_data`, which is taken from the name of the generator. After this part, which is called the `basename`, comes a colon followed by the sub-task name. Notice that we explicitly gave each sub-task a name by setting the `name` key in the task dictionary.\n",
      "\n",
      "What would happen if we didn't set sub-task names?"
     ]
    },
    {
     "cell_type": "code",
     "collapsed": false,
     "input": [
      "%%doit\n",
      "\n",
      "# sub_tasks_no_name.py\n",
      "\n",
      "data_sets = ['Tmean', 'Sunshine']\n",
      "\n",
      "def task_reformat_data():\n",
      "    \"\"\"Reformats all raw files for easier analysis\"\"\"\n",
      "\n",
      "    for data_type in data_sets:\n",
      "        yield {\n",
      "            'actions': ['python reformat_weather_data.py %(dependencies)s > %(targets)s'],\n",
      "            'file_dep': ['UK_{}_data.txt'.format(data_type)],\n",
      "            'targets': ['UK_{}_data.reformatted.txt'.format(data_type)],\n",
      "        }\n",
      "    "
     ],
     "language": "python",
     "metadata": {},
     "outputs": [
      {
       "output_type": "stream",
       "stream": "stderr",
       "text": [
        "ERROR: Task 'reformat_data' must contain field 'name' or 'basename'. {'file_dep': ['UK_Tmean_data.txt'], 'targets': ['UK_Tmean_data.reformatted.txt'], 'actions': ['python reformat_weather_data.py %(dependencies)s > %(targets)s']}\n"
       ]
      }
     ],
     "prompt_number": 16
    },
    {
     "cell_type": "markdown",
     "metadata": {},
     "source": [
      "Doit tells us that the task must define a name. This is because tasks can depend directly on other tasks, so each task must have a unique name by which it can be referenced as a dependency.\n",
      "\n",
      "Now look at the reformatted data:"
     ]
    },
    {
     "cell_type": "code",
     "collapsed": false,
     "input": [
      "!tail UK_Tmean_data.reformatted.txt"
     ],
     "language": "python",
     "metadata": {},
     "outputs": [
      {
       "output_type": "stream",
       "stream": "stdout",
       "text": [
        "2012-03-01,6.4\r\n",
        "2012-04-01,8.3\r\n",
        "2012-05-01,11.3\r\n",
        "2012-06-01,13.7\r\n",
        "2012-07-01,15.7\r\n",
        "2012-08-01,15.7\r\n",
        "2012-09-01,13.3\r\n",
        "2012-10-01,10.5\r\n",
        "2012-11-01,7.0\r\n",
        "2012-12-01,5.3\r\n"
       ]
      }
     ],
     "prompt_number": 17
    },
    {
     "cell_type": "markdown",
     "metadata": {},
     "source": [
      "The last data point in the file is from December 2012, so we probably ought to re-download our raw data. This is a task we will probably end up doing rather a lot, so we should let doit take care of it:"
     ]
    },
    {
     "cell_type": "code",
     "collapsed": false,
     "input": [
      "%%doit\n",
      "\n",
      "# download_temp_data.py\n",
      "\n",
      "import datetime\n",
      "from doit.tools import timeout \n",
      "\n",
      "data_sets = ['Tmean', 'Sunshine']\n",
      "\n",
      "def task_get_temp_data():\n",
      "    \"\"\"Downloads the raw temperature data from the Met Office\"\"\"\n",
      "\n",
      "    return {\n",
      "        'actions': ['wget -O %(targets)s http://www.metoffice.gov.uk/climate/uk/datasets/Tmean/ranked/UK.txt'],\n",
      "        'targets': ['UK_Tmean_data.txt'],\n",
      "    }\n",
      "\n",
      "def task_reformat_data():\n",
      "    \"\"\"Reformats all raw files for easier analysis\"\"\"\n",
      "\n",
      "    for data_type in data_sets:\n",
      "        yield {\n",
      "            'actions': ['python reformat_weather_data.py %(dependencies)s > %(targets)s'],\n",
      "            'file_dep': ['UK_{}_data.txt'.format(data_type)],\n",
      "            'targets': ['UK_{}_data.reformatted.txt'.format(data_type)],\n",
      "            'name': 'UK_{}_data.txt'.format(data_type),\n",
      "        }"
     ],
     "language": "python",
     "metadata": {},
     "outputs": [
      {
       "output_type": "stream",
       "stream": "stdout",
       "text": [
        ".  get_temp_data\n",
        "-- reformat_data:UK_Sunshine_data.txt\n",
        ".  reformat_data:UK_Tmean_data.txt\n"
       ]
      },
      {
       "output_type": "stream",
       "stream": "stderr",
       "text": [
        "--2014-04-05 09:26:08--  http://www.metoffice.gov.uk/climate/uk/datasets/Tmean/ranked/UK.txt\n",
        "Resolving www.metoffice.gov.uk (www.metoffice.gov.uk)... 23.63.99.216, 23.63.99.209\n",
        "Connecting to www.metoffice.gov.uk (www.metoffice.gov.uk)|23.63.99.216|:80... connected.\n",
        "HTTP request sent, awaiting response... 200 OK\n",
        "Length: 25576 (25K) [text/plain]\n",
        "Saving to: \u2018UK_Tmean_data.txt\u2019\n",
        "\n",
        "     0K .......... .......... ....                            100% 1.14M=0.02s\n",
        "\n",
        "2014-04-05 09:26:08 (1.14 MB/s) - \u2018UK_Tmean_data.txt\u2019 saved [25576/25576]\n",
        "\n"
       ]
      }
     ],
     "prompt_number": 18
    },
    {
     "cell_type": "markdown",
     "metadata": {},
     "source": [
      "We've added a new task that downloads the latest version of the temperature data from the UK Met Office website, so doit followed our instructions and downloaded the file. It then went on to our reformat_data task. Since the sunshine hours data hasn't changed, it isn't reformatted. However, there is now a new version of the mean temperature file, so doit automatically recreated the `UK_Tmean_data.reformatted.txt` file:"
     ]
    },
    {
     "cell_type": "code",
     "collapsed": false,
     "input": [
      "!tail UK_Tmean_data.reformatted.txt"
     ],
     "language": "python",
     "metadata": {},
     "outputs": [
      {
       "output_type": "stream",
       "stream": "stdout",
       "text": [
        "2013-03-01,5.1\r\n",
        "2013-04-01,7.0\r\n",
        "2013-05-01,10.0\r\n",
        "2013-06-01,12.8\r\n",
        "2013-07-01,14.5\r\n",
        "2013-08-01,14.4\r\n",
        "2013-09-01,12.4\r\n",
        "2013-10-01,9.2\r\n",
        "2013-11-01,5.7\r\n",
        "2013-12-01,3.9\r\n"
       ]
      }
     ],
     "prompt_number": 19
    },
    {
     "cell_type": "markdown",
     "metadata": {},
     "source": [
      "Which now contains all the data from 2013."
     ]
    },
    {
     "cell_type": "markdown",
     "metadata": {},
     "source": [
      "Here is one version of the script, which now downloads both the raw data files. The download_data task was a bit long, so I refactored the part which calculates all the correct file names into a new python function."
     ]
    },
    {
     "cell_type": "code",
     "collapsed": false,
     "input": [
      "%%doit\n",
      "\n",
      "# download_all_data.py\n",
      "\n",
      "data_sets = ['Tmean', 'Sunshine']\n",
      "\n",
      "def get_data_file_parameters(data_type):\n",
      "    \"\"\"Takes a string describing the type of climate data, returns url and file name for that data\"\"\"\n",
      "    \n",
      "    base_url = 'http://www.metoffice.gov.uk/climate/uk/datasets/{0}/ranked/UK.txt'\n",
      "    data_url = base_url.format(data_type)\n",
      "    data_target = 'UK_{0}_data.txt'.format(data_type)\n",
      "    return data_url, data_target\n",
      "\n",
      "def task_download_data():\n",
      "    \"\"\"Downloads all raw data files from the Met Office website\"\"\"\n",
      "\n",
      "    for data_type in data_sets:\n",
      "        data_url, data_target = get_data_file_parameters(data_type)\n",
      "        yield {\n",
      "            'actions': ['wget -O %(targets)s {0}'.format(data_url)],\n",
      "            'targets': [ data_target ],\n",
      "            'name' : data_type,\n",
      "        }\n",
      "\n",
      "def task_reformat_data():\n",
      "    \"\"\"Reformats all raw files for easier analysis\"\"\"\n",
      "\n",
      "    for data_type in data_sets:\n",
      "        yield {\n",
      "            'actions': ['python reformat_weather_data.py %(dependencies)s > %(targets)s'],\n",
      "            'file_dep': ['UK_{}_data.txt'.format(data_type)],\n",
      "            'targets': ['UK_{}_data.reformatted.txt'.format(data_type)],\n",
      "            'name': 'UK_{}_data.txt'.format(data_type),\n",
      "        }"
     ],
     "language": "python",
     "metadata": {},
     "outputs": [
      {
       "output_type": "stream",
       "stream": "stdout",
       "text": [
        ".  download_data:Tmean\n",
        ".  download_data:Sunshine\n",
        "-- reformat_data:UK_Sunshine_data.txt\n",
        "-- reformat_data:UK_Tmean_data.txt\n"
       ]
      },
      {
       "output_type": "stream",
       "stream": "stderr",
       "text": [
        "--2014-04-05 09:27:22--  http://www.metoffice.gov.uk/climate/uk/datasets/Tmean/ranked/UK.txt\n",
        "Resolving www.metoffice.gov.uk (www.metoffice.gov.uk)... 23.212.109.35, 23.212.109.65\n",
        "Connecting to www.metoffice.gov.uk (www.metoffice.gov.uk)|23.212.109.35|:80... connected.\n",
        "HTTP request sent, awaiting response... 200 OK\n",
        "Length: 25576 (25K) [text/plain]\n",
        "Saving to: \u2018UK_Tmean_data.txt\u2019\n",
        "\n",
        "     0K .......... .......... ....                            100% 1003K=0.02s\n",
        "\n",
        "2014-04-05 09:27:22 (1003 KB/s) - \u2018UK_Tmean_data.txt\u2019 saved [25576/25576]\n",
        "\n",
        "--2014-04-05 09:27:22--  http://www.metoffice.gov.uk/climate/uk/datasets/Sunshine/ranked/UK.txt\n",
        "Resolving www.metoffice.gov.uk (www.metoffice.gov.uk)... 23.212.109.65, 23.212.109.35\n",
        "Connecting to www.metoffice.gov.uk (www.metoffice.gov.uk)|23.212.109.65|:80... connected.\n",
        "HTTP request sent, awaiting response... 200 OK\n",
        "Length: 20986 (20K) [text/plain]\n",
        "Saving to: \u2018UK_Sunshine_data.txt\u2019\n",
        "\n",
        "     0K .......... ..........                                 100% 6.62M=0.003s\n",
        "\n",
        "2014-04-05 09:27:22 (6.62 MB/s) - \u2018UK_Sunshine_data.txt\u2019 saved [20986/20986]\n",
        "\n"
       ]
      }
     ],
     "prompt_number": 24
    },
    {
     "cell_type": "markdown",
     "metadata": {},
     "source": [
      "There are two things to notice here. Firstly, my new python function `get_data_file_parameters` doesn't start with `task_`, so doit doesn't try to run it as a task.\n",
      "\n",
      "Secondly, no matter how many times we run this script, doit always re-downloads the data files. Since they don't depend on anything, doit doesn't know how to check that they are up to date. This is why it always re-downloads them.\n",
      "\n",
      "If we were trying to do all these tasks ourselves, we would probably want to update our monthly temperature data every month. Doit lets us define another parameter in our task configuration dictionary, called `uptodate`. This should define a python function which will tell doit whether our task needs to be re-run.\n",
      "\n",
      "This is one of the big advantages of doit: any python you can write is valid. In fact, even using task generators to create sub-tasks is just a convention. Any python script you can write to make your task configuration dictionaries can be made to work with doit.\n",
      "\n",
      "Back to our problem about keeping our raw data files fresh. You could write your own function that checks how old the raw data files are, but thankfully doit comes with a utility function for doing just this. Lets set our data files to expire after four weeks:"
     ]
    },
    {
     "cell_type": "code",
     "collapsed": false,
     "input": [
      "%%doit\n",
      "\n",
      "# monthly_raw_data_update.py\n",
      "\n",
      "import datetime\n",
      "from doit.tools import timeout \n",
      "\n",
      "data_sets = ['Tmean', 'Sunshine']\n",
      "\n",
      "def get_data_file_parameters(data_type):\n",
      "    \"\"\"Takes a string describing the type of climate data, returns url and file name for that data\"\"\"\n",
      "\n",
      "    base_url = 'http://www.metoffice.gov.uk/climate/uk/datasets/{0}/ranked/UK.txt'\n",
      "    data_url = base_url.format(data_type)\n",
      "    data_target = 'UK_{0}_data.txt'.format(data_type)\n",
      "    return data_url, data_target\n",
      "\n",
      "def task_download_data():\n",
      "    \"\"\"Downloads all raw data files from the Met Office website\"\"\"\n",
      "\n",
      "    for data_type in data_sets:\n",
      "        data_url, data_target = get_data_file_parameters(data_type)\n",
      "        yield {\n",
      "            'actions': ['wget -O %(targets)s {0}'.format(data_url)],\n",
      "            'targets': [ data_target ],\n",
      "            'name' : data_type,\n",
      "            'uptodate': [timeout(datetime.timedelta(weeks=4))],\n",
      "\n",
      "        }\n",
      "\n",
      "def task_reformat_data():\n",
      "    \"\"\"Reformats all raw files for easier analysis\"\"\"\n",
      "\n",
      "    for data_type in data_sets:\n",
      "        yield {\n",
      "            'actions': ['python reformat_weather_data.py %(dependencies)s > %(targets)s'],\n",
      "            'file_dep': ['UK_{}_data.txt'.format(data_type)],\n",
      "            'targets': ['UK_{}_data.reformatted.txt'.format(data_type)],\n",
      "            'name': 'UK_{}_data.txt'.format(data_type),\n",
      "        }"
     ],
     "language": "python",
     "metadata": {},
     "outputs": [
      {
       "output_type": "stream",
       "stream": "stdout",
       "text": [
        "-- download_data:Tmean\n",
        "-- download_data:Sunshine\n",
        "-- reformat_data:UK_Sunshine_data.txt\n",
        "-- reformat_data:UK_Tmean_data.txt\n"
       ]
      }
     ],
     "prompt_number": 26
    },
    {
     "cell_type": "markdown",
     "metadata": {},
     "source": [
      "When we run this new script for the second time, doit knows that the raw data files are less than four weeks old, so it doesn't download them again.\n",
      "\n",
      "The big advantage of defining all our tasks in this way, is that it becomes much easier to add a new dataset. Lets download some rainfall data by adding `Rainfall` to our list of datasets:"
     ]
    },
    {
     "cell_type": "code",
     "collapsed": false,
     "input": [
      "%%doit\n",
      "\n",
      "# rainfall_data.py\n",
      "\n",
      "import datetime\n",
      "from doit.tools import timeout \n",
      "\n",
      "data_sets = ['Tmean', 'Sunshine', 'Rainfall']\n",
      "\n",
      "def get_data_file_parameters(data_type):\n",
      "    \"\"\"Takes a string describing the type of climate data, returns url and file name for that data\"\"\"\n",
      "\n",
      "    base_url = 'http://www.metoffice.gov.uk/climate/uk/datasets/{0}/ranked/UK.txt'\n",
      "    data_url = base_url.format(data_type)\n",
      "    data_target = 'UK_{0}_data.txt'.format(data_type)\n",
      "    return data_url, data_target\n",
      "\n",
      "def task_download_data():\n",
      "    \"\"\"Downloads all raw data files from the Met Office website\"\"\"\n",
      "\n",
      "    for data_type in data_sets:\n",
      "        data_url, data_target = get_data_file_parameters(data_type)\n",
      "        yield {\n",
      "            'actions': ['wget -O %(targets)s {0}'.format(data_url)],\n",
      "            'targets': [ data_target ],\n",
      "            'name' : data_type,\n",
      "            'uptodate': [timeout(datetime.timedelta(weeks=4))],\n",
      "\n",
      "        }\n",
      "\n",
      "def task_reformat_data():\n",
      "    \"\"\"Reformats all raw files for easier analysis\"\"\"\n",
      "\n",
      "    for data_type in data_sets:\n",
      "        yield {\n",
      "            'actions': ['python reformat_weather_data.py %(dependencies)s > %(targets)s'],\n",
      "            'file_dep': ['UK_{}_data.txt'.format(data_type)],\n",
      "            'targets': ['UK_{}_data.reformatted.txt'.format(data_type)],\n",
      "            'name': 'UK_{}_data.txt'.format(data_type),\n",
      "        }"
     ],
     "language": "python",
     "metadata": {},
     "outputs": [
      {
       "output_type": "stream",
       "stream": "stdout",
       "text": [
        "-- download_data:Rainfall\n",
        "-- download_data:Tmean\n",
        "-- download_data:Sunshine\n",
        "-- reformat_data:UK_Rainfall_data.txt\n",
        "-- reformat_data:UK_Sunshine_data.txt\n",
        "-- reformat_data:UK_Tmean_data.txt\n"
       ]
      }
     ],
     "prompt_number": 27
    },
    {
     "cell_type": "markdown",
     "metadata": {},
     "source": [
      "Now we have some shiny new rainfall data, properly formatted for further analysis:"
     ]
    },
    {
     "cell_type": "code",
     "collapsed": false,
     "input": [
      "!head UK_Rainfall_data.reformatted.txt"
     ],
     "language": "python",
     "metadata": {},
     "outputs": [
      {
       "output_type": "stream",
       "stream": "stdout",
       "text": [
        "month,value\r\n",
        "1910-01-01,111.4\r\n",
        "1910-02-01,79.5\r\n",
        "1910-03-01,75.5\r\n",
        "1910-04-01,69.1\r\n",
        "1910-05-01,66.4\r\n",
        "1910-06-01,65.3\r\n",
        "1910-07-01,81.6\r\n",
        "1910-08-01,90.3\r\n",
        "1910-09-01,92.0\r\n"
       ]
      }
     ],
     "prompt_number": 28
    },
    {
     "cell_type": "code",
     "collapsed": false,
     "input": [],
     "language": "python",
     "metadata": {},
     "outputs": []
    }
   ],
   "metadata": {}
  }
 ]
}