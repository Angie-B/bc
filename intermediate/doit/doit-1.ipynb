{
 "metadata": {
  "name": ""
 },
 "nbformat": 3,
 "nbformat_minor": 0,
 "worksheets": [
  {
   "cells": [
    {
     "cell_type": "code",
     "collapsed": false,
     "input": [
      "%load_ext doitmagic"
     ],
     "language": "python",
     "metadata": {},
     "outputs": [],
     "prompt_number": 2
    },
    {
     "cell_type": "code",
     "collapsed": false,
     "input": [
      "%%doit\n",
      "\n",
      "def task_unstack_temperature_data():\n",
      "    return {\n",
      "        'actions': ['python unstack_weather_data.py UK_Tmean_data.txt > UK_Tmean_data.unstacked.txt'],\n",
      "        'file_dep': ['UK_Tmean_data.txt'],\n",
      "        'targets': ['UK_Tmean_data.unstacked.txt'],\n",
      "    }\n"
     ],
     "language": "python",
     "metadata": {},
     "outputs": [
      {
       "output_type": "stream",
       "stream": "stdout",
       "text": [
        "-- unstack_temperature_data\n"
       ]
      }
     ],
     "prompt_number": 10
    },
    {
     "cell_type": "code",
     "collapsed": false,
     "input": [
      "%%doit\n",
      "\n",
      "def task_unstack_temperature_data():\n",
      "    return {\n",
      "        'actions': ['python unstack_weather_data.py UK_Tmean_data.txt > UK_Tmean_data.unstacked.txt'],\n",
      "        'file_dep': ['UK_Tmean_data.txt'],\n",
      "        'targets': ['UK_Tmean_data.unstacked.txt'],\n",
      "    }\n",
      "\n",
      "def task_unstack_sunshine_data():\n",
      "    return {\n",
      "        'actions': ['python unstack_weather_data.py UK_Sunshine_data.txt > UK_Sunshine_data.unstacked.txt'],\n",
      "        'file_dep': ['UK_Sunshine_data.txt'],\n",
      "        'targets': ['UK_Sunshine_data.unstacked.txt'],\n",
      "    }"
     ],
     "language": "python",
     "metadata": {},
     "outputs": [
      {
       "output_type": "stream",
       "stream": "stdout",
       "text": [
        "-- unstack_temperature_data\n",
        "-- unstack_sunshine_data\n"
       ]
      }
     ],
     "prompt_number": 13
    },
    {
     "cell_type": "code",
     "collapsed": false,
     "input": [
      "%%doit\n",
      "\n",
      "def task_unstack_temperature_data():\n",
      "    return {\n",
      "        'actions': ['python unstack_weather_data.py %(dependencies)s > %(targets)s'],\n",
      "        'file_dep': ['UK_Tmean_data.txt'],\n",
      "        'targets': ['UK_Tmean_data.unstacked.txt'],\n",
      "    }\n",
      "\n",
      "def task_unstack_sunshine_data():\n",
      "    return {\n",
      "        'actions': ['python unstack_weather_data.py %(dependencies)s > %(targets)s'],\n",
      "        'file_dep': ['UK_Sunshine_data.txt'],\n",
      "        'targets': ['UK_Sunshine_data.unstacked.txt'],\n",
      "    }"
     ],
     "language": "python",
     "metadata": {},
     "outputs": [
      {
       "output_type": "stream",
       "stream": "stdout",
       "text": [
        "-- unstack_temperature_data\n",
        "-- unstack_sunshine_data\n"
       ]
      }
     ],
     "prompt_number": 14
    },
    {
     "cell_type": "code",
     "collapsed": false,
     "input": [
      "%%doit\n",
      "\n",
      "data_sets = ['Tmean', 'Sunshine']\n",
      "\n",
      "def task_unstack_temperature_data():\n",
      "    for data_type in data_sets:\n",
      "        yield {\n",
      "            'actions': ['python unstack_weather_data.py %(dependencies)s > %(targets)s'],\n",
      "            'file_dep': ['UK_{}_data.txt'.format(data_type)],\n",
      "            'targets': ['UK_{}_data.unstacked.txt'.format(data_type)],\n",
      "            'name': 'UK_{}_data.txt'.format(data_type),\n",
      "        }"
     ],
     "language": "python",
     "metadata": {},
     "outputs": [
      {
       "output_type": "stream",
       "stream": "stdout",
       "text": [
        "-- unstack_temperature_data:UK_Tmean_data.txt\n",
        "-- unstack_temperature_data:UK_Sunshine_data.txt\n"
       ]
      }
     ],
     "prompt_number": 19
    },
    {
     "cell_type": "code",
     "collapsed": false,
     "input": [
      "!head UK_Tmean_data.txt.unstacked"
     ],
     "language": "python",
     "metadata": {},
     "outputs": []
    },
    {
     "cell_type": "code",
     "collapsed": false,
     "input": [
      "%%doit\n",
      "import datetime\n",
      "from doit.tools import timeout \n",
      "\n",
      "def task_get_temp_data():\n",
      "    return {\n",
      "        'actions': ['wget -O %(targets)s http://www.metoffice.gov.uk/climate/uk/datasets/Tmean/ranked/UK.txt'],\n",
      "        'targets': ['UK_Tmean_data.txt'],\n",
      "        'uptodate': [timeout(datetime.timedelta(weeks=4))],\n",
      "    }\n",
      "\n",
      "def task_unstack_temp_data():\n",
      "    return {\n",
      "        'actions': ['python unstack_weather_data.py %(dependencies)s > %(targets)s'],\n",
      "        'file_dep': ['UK_Tmean_data.txt'],\n",
      "        'targets': ['UK_Tmean_data.txt.unstacked'],\n",
      "    }"
     ],
     "language": "python",
     "metadata": {},
     "outputs": []
    },
    {
     "cell_type": "code",
     "collapsed": false,
     "input": [
      "%%doit\n",
      "import datetime\n",
      "from doit.tools import timeout \n",
      "\n",
      "def task_get_temp_data():\n",
      "    return {\n",
      "        'actions': ['wget -O %(targets)s http://www.metoffice.gov.uk/climate/uk/datasets/Tmean/ranked/UK.txt'],\n",
      "        'targets': ['UK_Tmean_data.txt'],\n",
      "        'uptodate': [timeout(datetime.timedelta(weeks=4))],\n",
      "    }\n",
      "\n",
      "def task_get_sunshine_data():\n",
      "    return {\n",
      "        'actions': ['wget -O %(targets)s http://www.metoffice.gov.uk/climate/uk/datasets/Sunshine/ranked/UK.txt'],\n",
      "        'targets': ['UK_Sunshine_data.txt'],\n",
      "        'uptodate': [timeout(datetime.timedelta(weeks=4))],\n",
      "    }\n",
      "\n",
      "def task_unstack_temp_data():\n",
      "    return {\n",
      "        'actions': ['python unstack_weather_data.py %(dependencies)s > %(targets)s'],\n",
      "        'file_dep': ['UK_Tmean_data.txt'],\n",
      "        'targets': ['UK_Tmean_data.txt.unstacked'],\n",
      "    }"
     ],
     "language": "python",
     "metadata": {},
     "outputs": []
    },
    {
     "cell_type": "code",
     "collapsed": false,
     "input": [
      "%%doit\n",
      "\n",
      "import datetime\n",
      "from doit.tools import timeout \n",
      "\n",
      "def task_get_temp_data():\n",
      "    data_url = 'http://www.metoffice.gov.uk/climate/uk/datasets/Tmean/ranked/UK.txt'\n",
      "    data_target = 'UK_Tmean_data.txt'    \n",
      "    return {\n",
      "        'actions': ['wget -O %(targets)s {0}'.format(data_url)],\n",
      "        'targets': [ data_target ],\n",
      "        'uptodate': [timeout(datetime.timedelta(weeks=4))],\n",
      "    }\n",
      "\n",
      "def task_get_sunshine_data():\n",
      "    data_url = 'http://www.metoffice.gov.uk/climate/uk/datasets/Sunshine/ranked/UK.txt'\n",
      "    data_target = 'UK_Sunshine_data.txt'\n",
      "    return {\n",
      "        'actions': ['wget -O %(targets)s {0}'.format(data_url)],\n",
      "        'targets': [ data_target ],\n",
      "        'uptodate': [timeout(datetime.timedelta(weeks=4))],\n",
      "    }\n",
      "\n",
      "def task_unstack_temp_data():\n",
      "    return {\n",
      "        'actions': ['python unstack_weather_data.py %(dependencies)s > %(targets)s'],\n",
      "        'file_dep': ['UK_Tmean_data.txt'],\n",
      "        'targets': ['UK_Tmean_data.txt.unstacked'],\n",
      "    }"
     ],
     "language": "python",
     "metadata": {},
     "outputs": []
    },
    {
     "cell_type": "code",
     "collapsed": false,
     "input": [
      "def get_data_file_parameters(data_type):\n",
      "    base_url = 'http://www.metoffice.gov.uk/climate/uk/datasets/{0}/ranked/UK.txt'\n",
      "    data_url = base_url.format(data_type)\n",
      "    data_target = 'UK_{0}_data.txt'.format(data_type)\n",
      "    return data_url, data_target\n",
      "\n",
      "print get_data_file_parameters('Tmean')"
     ],
     "language": "python",
     "metadata": {},
     "outputs": []
    },
    {
     "cell_type": "code",
     "collapsed": false,
     "input": [
      "%%doit\n",
      "\n",
      "import datetime\n",
      "from doit.tools import timeout \n",
      "\n",
      "def get_data_file_parameters(data_type):\n",
      "    base_url = 'http://www.metoffice.gov.uk/climate/uk/datasets/{0}/ranked/UK.txt'\n",
      "    data_url = base_url.format(data_type)\n",
      "    data_target = 'UK_{0}_data.txt'.format(data_type)\n",
      "    return data_url, data_target\n",
      "\n",
      "def task_get_temp_data():\n",
      "    data_url, data_target = get_data_file_parameters('Tmean')    \n",
      "    return {\n",
      "        'actions': ['wget -O %(targets)s {0}'.format(data_url)],\n",
      "        'targets': [ data_target ],\n",
      "        'uptodate': [timeout(datetime.timedelta(weeks=4))],\n",
      "    }\n",
      "\n",
      "def task_get_sunshine_data():\n",
      "    data_url, data_target = get_data_file_parameters('Sunshine')\n",
      "    return {\n",
      "        'actions': ['wget -O %(targets)s {0}'.format(data_url)],\n",
      "        'targets': [ data_target ],\n",
      "        'uptodate': [timeout(datetime.timedelta(weeks=4))],\n",
      "    }\n",
      "\n",
      "def task_unstack_temp_data():\n",
      "    return {\n",
      "        'actions': ['python unstack_weather_data.py %(dependencies)s > %(targets)s'],\n",
      "        'file_dep': ['UK_Tmean_data.txt'],\n",
      "        'targets': ['UK_Tmean_data.txt.unstacked'],\n",
      "    }"
     ],
     "language": "python",
     "metadata": {},
     "outputs": []
    },
    {
     "cell_type": "code",
     "collapsed": false,
     "input": [
      "%%doit\n",
      "\n",
      "import datetime\n",
      "from doit.tools import timeout \n",
      "\n",
      "def get_data_file_parameters(data_type):\n",
      "    base_url = 'http://www.metoffice.gov.uk/climate/uk/datasets/{0}/ranked/UK.txt'\n",
      "    data_url = base_url.format(data_type)\n",
      "    data_target = 'UK_{0}_data.txt'.format(data_type)\n",
      "    return data_url, data_target\n",
      "\n",
      "def task_download_data():\n",
      "    for data_type in ['Tmean', 'Sunshine']:\n",
      "        data_url, data_target = get_data_file_parameters(data_type)\n",
      "        yield {\n",
      "            'actions': ['wget -O %(targets)s {0}'.format(data_url)],\n",
      "            'targets': [ data_target ],\n",
      "            'uptodate': [timeout(datetime.timedelta(weeks=4))],\n",
      "\n",
      "        }\n",
      "\n",
      "def task_unstack_temp_data():\n",
      "    return {\n",
      "        'actions': ['python unstack_weather_data.py %(dependencies)s > %(targets)s'],\n",
      "        'file_dep': ['UK_Tmean_data.txt'],\n",
      "        'targets': ['UK_Tmean_data.txt.unstacked'],\n",
      "    }"
     ],
     "language": "python",
     "metadata": {},
     "outputs": []
    },
    {
     "cell_type": "code",
     "collapsed": false,
     "input": [
      "%%doit\n",
      "\n",
      "import datetime\n",
      "from doit.tools import timeout \n",
      "\n",
      "def get_data_file_parameters(data_type):\n",
      "    base_url = 'http://www.metoffice.gov.uk/climate/uk/datasets/{0}/ranked/UK.txt'\n",
      "    data_url = base_url.format(data_type)\n",
      "    data_target = 'UK_{0}_data.txt'.format(data_type)\n",
      "    return data_url, data_target\n",
      "\n",
      "def task_download_data():\n",
      "    for data_type in ['Tmean', 'Sunshine']:\n",
      "        data_url, data_target = get_data_file_parameters(data_type)\n",
      "        yield {\n",
      "            'actions': ['wget -O %(targets)s {0}'.format(data_url)],\n",
      "            'targets': [ data_target ],\n",
      "            'uptodate': [timeout(datetime.timedelta(weeks=4))],\n",
      "            'name': data_target,\n",
      "        }\n",
      "\n",
      "def task_unstack_temp_data():\n",
      "    return {\n",
      "        'actions': ['python unstack_weather_data.py %(dependencies)s > %(targets)s'],\n",
      "        'file_dep': ['UK_Tmean_data.txt'],\n",
      "        'targets': ['UK_Tmean_data.txt.unstacked'],\n",
      "    }"
     ],
     "language": "python",
     "metadata": {},
     "outputs": []
    },
    {
     "cell_type": "code",
     "collapsed": false,
     "input": [
      "%%doit\n",
      "\n",
      "import datetime\n",
      "from doit.tools import timeout \n",
      "\n",
      "def get_data_file_parameters(data_type):\n",
      "    base_url = 'http://www.metoffice.gov.uk/climate/uk/datasets/{0}/ranked/UK.txt'\n",
      "    data_url = base_url.format(data_type)\n",
      "    data_target = 'UK_{0}_data.txt'.format(data_type)\n",
      "    return data_url, data_target\n",
      "\n",
      "def task_download_data():\n",
      "    for data_type in ['Tmean', 'Sunshine', 'Rainfall']:\n",
      "        data_url, data_target = get_data_file_parameters(data_type)\n",
      "        yield {\n",
      "            'actions': ['wget -O %(targets)s {0}'.format(data_url)],\n",
      "            'targets': [ data_target ],\n",
      "            'uptodate': [timeout(datetime.timedelta(weeks=4))],\n",
      "            'name': data_target,\n",
      "        }\n",
      "\n",
      "def task_unstack_temp_data():\n",
      "    return {\n",
      "        'actions': ['python unstack_weather_data.py %(dependencies)s > %(targets)s'],\n",
      "        'file_dep': ['UK_Tmean_data.txt'],\n",
      "        'targets': ['UK_Tmean_data.txt.unstacked'],\n",
      "    }"
     ],
     "language": "python",
     "metadata": {},
     "outputs": []
    },
    {
     "cell_type": "code",
     "collapsed": false,
     "input": [],
     "language": "python",
     "metadata": {},
     "outputs": []
    }
   ],
   "metadata": {}
  }
 ]
}