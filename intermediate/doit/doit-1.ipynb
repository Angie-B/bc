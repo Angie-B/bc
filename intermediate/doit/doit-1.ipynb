{
 "metadata": {
  "name": ""
 },
 "nbformat": 3,
 "nbformat_minor": 0,
 "worksheets": [
  {
   "cells": [
    {
     "cell_type": "code",
     "collapsed": false,
     "input": [
      "%load_ext doitmagic"
     ],
     "language": "python",
     "metadata": {},
     "outputs": [],
     "prompt_number": 1
    },
    {
     "cell_type": "code",
     "collapsed": false,
     "input": [
      "!ls UK_*_data.txt"
     ],
     "language": "python",
     "metadata": {},
     "outputs": [
      {
       "output_type": "stream",
       "stream": "stdout",
       "text": [
        "UK_Sunshine_data.txt  UK_Tmean_data.txt\r\n"
       ]
      }
     ],
     "prompt_number": 4
    },
    {
     "cell_type": "code",
     "collapsed": false,
     "input": [
      "!head UK_Tmean_data.txt"
     ],
     "language": "python",
     "metadata": {},
     "outputs": [
      {
       "output_type": "stream",
       "stream": "stdout",
       "text": [
        "UK Mean Temperature (Degrees C)\r\n",
        "Areal series, starting from 1910\r\n",
        "Allowances have been made for topographic, coastal and urban effects where relationships are found to exist.\r\n",
        "Seasons: Winter=Dec-Feb, Spring=Mar-May, Summer=June-Aug, Autumn=Sept-Nov. (Winter: Year refers to Jan/Feb).\r\n",
        "Monthly values are ranked and displayed to 1 dp and seasonal/annual values to 2 dp. Where values are equal, rankings are based in order of year descending.\r\n",
        "Data are provisional from January 2012 & Winter 2012 Last updated 01/12/2012\r\n",
        "\r\n",
        "\tJAN\tYear\tFEB\tYear\tMAR\tYear\tAPR\tYear\tMAY\tYear\tJUN\tYear\tJUL\tYear\tAUG\tYear\tSEP\tYear\tOCT\tYear\tNOV\tYear\tDEC\tYear\tWIN\tYear\tSPR\tYear\tSUM\tYear\tAUT\tYear\tANN\tYear\r\n",
        "\t6.3\t1916\t6.8\t1998\t8\t1938\t10.7\t2011\t12.2\t2008\t15\t1976\t17.8\t2006\t17.3\t1995\t15.2\t2006\t12.2\t2001\t8.8\t1994\t6.9\t1934\t5.81\t1989\t9.15\t2011\t15.78\t2006\t11.39\t2006\t9.73\t2006\r\n",
        "\t5.9\t2007\t5.9\t1990\t7.9\t1957\t10.2\t2007\t12\t1992\t14.9\t1940\t17.3\t1983\t17.1\t1997\t14.6\t1949\t11.8\t1969\t8.7\t2011\t6.6\t1988\t5.56\t2007\t9.05\t2007\t15.77\t2003\t11.26\t2011\t9.64\t2011\r\n"
       ]
      }
     ],
     "prompt_number": 5
    },
    {
     "cell_type": "code",
     "collapsed": false,
     "input": [
      "!python unstack_weather_data.py UK_Tmean_data.txt | head"
     ],
     "language": "python",
     "metadata": {},
     "outputs": [
      {
       "output_type": "stream",
       "stream": "stdout",
       "text": [
        "month,value\r\n",
        "1910-01-01,2.6\r\n",
        "1910-02-01,2.6\r\n",
        "1910-03-01,4.0\r\n",
        "1910-04-01,6.4\r\n",
        "1910-05-01,9.5\r\n",
        "1910-06-01,12.3\r\n",
        "1910-07-01,14.0\r\n",
        "1910-08-01,13.8\r\n",
        "1910-09-01,11.8\r\n"
       ]
      }
     ],
     "prompt_number": 6
    },
    {
     "cell_type": "code",
     "collapsed": false,
     "input": [
      "%%doit\n",
      "\n",
      "def task_unstack_temperature_data():\n",
      "    return {\n",
      "        'actions': ['python unstack_weather_data.py UK_Tmean_data.txt > UK_Tmean_data.unstacked.txt'],\n",
      "        'file_dep': ['UK_Tmean_data.txt'],\n",
      "        'targets': ['UK_Tmean_data.unstacked.txt'],\n",
      "    }\n"
     ],
     "language": "python",
     "metadata": {},
     "outputs": [
      {
       "output_type": "stream",
       "stream": "stdout",
       "text": [
        ".  unstack_temperature_data\n"
       ]
      }
     ],
     "prompt_number": 7
    },
    {
     "cell_type": "code",
     "collapsed": false,
     "input": [
      "!head UK_Tmean_data.unstacked.txt"
     ],
     "language": "python",
     "metadata": {},
     "outputs": [
      {
       "output_type": "stream",
       "stream": "stdout",
       "text": [
        "month,value\r\n",
        "1910-01-01,2.6\r\n",
        "1910-02-01,2.6\r\n",
        "1910-03-01,4.0\r\n",
        "1910-04-01,6.4\r\n",
        "1910-05-01,9.5\r\n",
        "1910-06-01,12.3\r\n",
        "1910-07-01,14.0\r\n",
        "1910-08-01,13.8\r\n",
        "1910-09-01,11.8\r\n"
       ]
      }
     ],
     "prompt_number": 8
    },
    {
     "cell_type": "code",
     "collapsed": false,
     "input": [
      "%%doit\n",
      "\n",
      "def task_unstack_temperature_data():\n",
      "    return {\n",
      "        'actions': ['python unstack_weather_data.py UK_Tmean_data.txt > UK_Tmean_data.unstacked.txt'],\n",
      "        'file_dep': ['UK_Tmean_data.txt'],\n",
      "        'targets': ['UK_Tmean_data.unstacked.txt'],\n",
      "    }\n",
      "\n",
      "def task_unstack_sunshine_data():\n",
      "    return {\n",
      "        'actions': ['python unstack_weather_data.py UK_Sunshine_data.txt > UK_Sunshine_data.unstacked.txt'],\n",
      "        'file_dep': ['UK_Sunshine_data.txt'],\n",
      "        'targets': ['UK_Sunshine_data.unstacked.txt'],\n",
      "    }"
     ],
     "language": "python",
     "metadata": {},
     "outputs": [
      {
       "output_type": "stream",
       "stream": "stdout",
       "text": [
        "-- unstack_temperature_data\n",
        ".  unstack_sunshine_data\n"
       ]
      }
     ],
     "prompt_number": 9
    },
    {
     "cell_type": "code",
     "collapsed": false,
     "input": [
      "%%doit\n",
      "\n",
      "def task_unstack_temperature_data():\n",
      "    return {\n",
      "        'actions': ['python unstack_weather_data.py %(dependencies)s > %(targets)s'],\n",
      "        'file_dep': ['UK_Tmean_data.txt'],\n",
      "        'targets': ['UK_Tmean_data.unstacked.txt'],\n",
      "    }\n",
      "\n",
      "def task_unstack_sunshine_data():\n",
      "    return {\n",
      "        'actions': ['python unstack_weather_data.py %(dependencies)s > %(targets)s'],\n",
      "        'file_dep': ['UK_Sunshine_data.txt'],\n",
      "        'targets': ['UK_Sunshine_data.unstacked.txt'],\n",
      "    }"
     ],
     "language": "python",
     "metadata": {},
     "outputs": [
      {
       "output_type": "stream",
       "stream": "stdout",
       "text": [
        "-- unstack_temperature_data\n",
        "-- unstack_sunshine_data\n"
       ]
      }
     ],
     "prompt_number": 10
    },
    {
     "cell_type": "code",
     "collapsed": false,
     "input": [
      "%%doit\n",
      "\n",
      "data_sets = ['Tmean', 'Sunshine']\n",
      "\n",
      "def task_unstack_data():\n",
      "    for data_type in data_sets:\n",
      "        yield {\n",
      "            'actions': ['python unstack_weather_data.py %(dependencies)s > %(targets)s'],\n",
      "            'file_dep': ['UK_{}_data.txt'.format(data_type)],\n",
      "            'targets': ['UK_{}_data.unstacked.txt'.format(data_type)],\n",
      "            'name': 'UK_{}_data.txt'.format(data_type),\n",
      "        }\n",
      "    "
     ],
     "language": "python",
     "metadata": {},
     "outputs": [
      {
       "output_type": "stream",
       "stream": "stdout",
       "text": [
        "-- unstack_data:UK_Sunshine_data.txt\n",
        "-- unstack_data:UK_Tmean_data.txt\n"
       ]
      }
     ],
     "prompt_number": 12
    },
    {
     "cell_type": "code",
     "collapsed": false,
     "input": [
      "!tail UK_Tmean_data.unstacked.txt"
     ],
     "language": "python",
     "metadata": {},
     "outputs": [
      {
       "output_type": "stream",
       "stream": "stdout",
       "text": [
        "2012-03-01,6.4\r\n",
        "2012-04-01,8.3\r\n",
        "2012-05-01,11.3\r\n",
        "2012-06-01,13.7\r\n",
        "2012-07-01,15.7\r\n",
        "2012-08-01,15.7\r\n",
        "2012-09-01,13.3\r\n",
        "2012-10-01,10.5\r\n",
        "2012-11-01,7.0\r\n",
        "2012-12-01,5.3\r\n"
       ]
      }
     ],
     "prompt_number": 13
    },
    {
     "cell_type": "code",
     "collapsed": false,
     "input": [
      "%%doit\n",
      "import datetime\n",
      "from doit.tools import timeout \n",
      "\n",
      "data_sets = ['Tmean', 'Sunshine']\n",
      "\n",
      "def task_get_temp_data():\n",
      "    return {\n",
      "        'actions': ['wget -O %(targets)s http://www.metoffice.gov.uk/climate/uk/datasets/Tmean/ranked/UK.txt'],\n",
      "        'targets': ['UK_Tmean_data.txt'],\n",
      "    }\n",
      "\n",
      "def task_unstack_data():\n",
      "    for data_type in data_sets:\n",
      "        yield {\n",
      "            'actions': ['python unstack_weather_data.py %(dependencies)s > %(targets)s'],\n",
      "            'file_dep': ['UK_{}_data.txt'.format(data_type)],\n",
      "            'targets': ['UK_{}_data.unstacked.txt'.format(data_type)],\n",
      "            'name': 'UK_{}_data.txt'.format(data_type),\n",
      "        }"
     ],
     "language": "python",
     "metadata": {},
     "outputs": [
      {
       "output_type": "stream",
       "stream": "stdout",
       "text": [
        ".  get_temp_data\n",
        "-- unstack_data:UK_Sunshine_data.txt\n",
        ".  unstack_data:UK_Tmean_data.txt\n"
       ]
      },
      {
       "output_type": "stream",
       "stream": "stderr",
       "text": [
        "--2014-04-04 20:38:08--  http://www.metoffice.gov.uk/climate/uk/datasets/Tmean/ranked/UK.txt\n",
        "Resolving www.metoffice.gov.uk (www.metoffice.gov.uk)... 23.63.99.234, 23.63.99.216\n",
        "Connecting to www.metoffice.gov.uk (www.metoffice.gov.uk)|23.63.99.234|:80... connected.\n",
        "HTTP request sent, awaiting response... 200 OK\n",
        "Length: 25576 (25K) [text/plain]\n",
        "Saving to: \u2018UK_Tmean_data.txt\u2019\n",
        "\n",
        "     0K .......... .......... ....                            100% 1.73M=0.01s\n",
        "\n",
        "2014-04-04 20:38:08 (1.73 MB/s) - \u2018UK_Tmean_data.txt\u2019 saved [25576/25576]\n",
        "\n"
       ]
      }
     ],
     "prompt_number": 14
    },
    {
     "cell_type": "code",
     "collapsed": false,
     "input": [
      "!head UK_Tmean_data.txt"
     ],
     "language": "python",
     "metadata": {},
     "outputs": [
      {
       "output_type": "stream",
       "stream": "stdout",
       "text": [
        "UK Mean Temperature (Degrees C)\r\n",
        "Areal series, starting from 1910\r\n",
        "Allowances have been made for topographic, coastal and urban effects where relationships are found to exist.\r\n",
        "Seasons: Winter=Dec-Feb, Spring=Mar-May, Summer=June-Aug, Autumn=Sept-Nov. (Winter: Year refers to Jan/Feb).\r\n",
        "Monthly values are ranked and displayed to 1 dp and seasonal/annual values to 2 dp. Where values are equal, rankings are based in order of year descending.\r\n",
        "Data are provisional from January 2013 & Winter 2012/2013. Last updated 01/07/2013\r\n",
        "\r\n",
        "     JAN  Year     FEB  Year     MAR  Year     APR  Year     MAY  Year     JUN  Year     JUL  Year     AUG  Year    SEP   Year     OCT  Year     NOV  Year     DEC  Year     WIN  Year     SPR  Year     SUM  Year     AUT  Year     ANN  Year\r\n",
        "     6.3  1916     6.8  1998     8.0  1938    10.7  2011    12.2  2008    15.0  1976    17.8  2006    17.3  1995    15.2  2006    12.2  2001     8.8  1994     6.9  1934    5.81  1989    9.15  2011   15.78  2006   11.39  2006    9.73  2006\r\n",
        "     5.9  2007     5.9  1990     7.9  1957    10.2  2007    12.0  1992    14.9  1940    17.3  1983    17.1  1997    14.6  1949    11.8  1969     8.7  2011     6.6  1988    5.56  2007    9.05  2007   15.77  2003   11.26  2011    9.64  2011\r\n"
       ]
      }
     ],
     "prompt_number": 15
    },
    {
     "cell_type": "code",
     "collapsed": false,
     "input": [
      "!tail UK_Tmean_data.unstacked.txt"
     ],
     "language": "python",
     "metadata": {},
     "outputs": [
      {
       "output_type": "stream",
       "stream": "stdout",
       "text": [
        "2013-03-01,5.1\r\n",
        "2013-04-01,7.0\r\n",
        "2013-05-01,10.0\r\n",
        "2013-06-01,12.8\r\n",
        "2013-07-01,14.5\r\n",
        "2013-08-01,14.4\r\n",
        "2013-09-01,12.4\r\n",
        "2013-10-01,9.2\r\n",
        "2013-11-01,5.7\r\n",
        "2013-12-01,3.9\r\n"
       ]
      }
     ],
     "prompt_number": 17
    },
    {
     "cell_type": "code",
     "collapsed": false,
     "input": [
      "%%doit\n",
      "import datetime\n",
      "\n",
      "data_sets = ['Tmean', 'Sunshine']\n",
      "\n",
      "def get_data_file_parameters(data_type):\n",
      "    base_url = 'http://www.metoffice.gov.uk/climate/uk/datasets/{0}/ranked/UK.txt'\n",
      "    data_url = base_url.format(data_type)\n",
      "    data_target = 'UK_{0}_data.txt'.format(data_type)\n",
      "    return data_url, data_target\n",
      "\n",
      "def task_download_data():\n",
      "    for data_type in data_sets:\n",
      "        data_url, data_target = get_data_file_parameters(data_type)\n",
      "        yield {\n",
      "            'actions': ['wget -O %(targets)s {0}'.format(data_url)],\n",
      "            'targets': [ data_target ],\n",
      "            'name' : data_type,\n",
      "        }\n",
      "\n",
      "def task_unstack_data():\n",
      "    for data_type in data_sets:\n",
      "        yield {\n",
      "            'actions': ['python unstack_weather_data.py %(dependencies)s > %(targets)s'],\n",
      "            'file_dep': ['UK_{}_data.txt'.format(data_type)],\n",
      "            'targets': ['UK_{}_data.unstacked.txt'.format(data_type)],\n",
      "            'name': 'UK_{}_data.txt'.format(data_type),\n",
      "        }"
     ],
     "language": "python",
     "metadata": {},
     "outputs": [
      {
       "output_type": "stream",
       "stream": "stdout",
       "text": [
        ".  download_data:Tmean\n",
        ".  download_data:Sunshine\n",
        "-- unstack_data:UK_Sunshine_data.txt\n",
        "-- unstack_data:UK_Tmean_data.txt\n"
       ]
      },
      {
       "output_type": "stream",
       "stream": "stderr",
       "text": [
        "--2014-04-04 20:38:50--  http://www.metoffice.gov.uk/climate/uk/datasets/Tmean/ranked/UK.txt\n",
        "Resolving www.metoffice.gov.uk (www.metoffice.gov.uk)... 195.59.58.218, 195.59.58.209\n",
        "Connecting to www.metoffice.gov.uk (www.metoffice.gov.uk)|195.59.58.218|:80... connected.\n",
        "HTTP request sent, awaiting response... 200 OK\n",
        "Length: 25576 (25K) [text/plain]\n",
        "Saving to: \u2018UK_Tmean_data.txt\u2019\n",
        "\n",
        "     0K .......... .......... ....                            100% 1.45M=0.02s\n",
        "\n",
        "2014-04-04 20:38:51 (1.45 MB/s) - \u2018UK_Tmean_data.txt\u2019 saved [25576/25576]\n",
        "\n",
        "--2014-04-04 20:38:51--  http://www.metoffice.gov.uk/climate/uk/datasets/Sunshine/ranked/UK.txt\n",
        "Resolving www.metoffice.gov.uk (www.metoffice.gov.uk)... 195.59.58.209, 195.59.58.218\n",
        "Connecting to www.metoffice.gov.uk (www.metoffice.gov.uk)|195.59.58.209|:80... connected.\n",
        "HTTP request sent, awaiting response... 200 OK\n",
        "Length: 20986 (20K) [text/plain]\n",
        "Saving to: \u2018UK_Sunshine_data.txt\u2019\n",
        "\n",
        "     0K .......... ..........                                 100% 7.56M=0.003s\n",
        "\n",
        "2014-04-04 20:38:51 (7.56 MB/s) - \u2018UK_Sunshine_data.txt\u2019 saved [20986/20986]\n",
        "\n"
       ]
      }
     ],
     "prompt_number": 18
    },
    {
     "cell_type": "code",
     "collapsed": false,
     "input": [
      "%%doit\n",
      "import datetime\n",
      "from doit.tools import timeout \n",
      "\n",
      "data_sets = ['Tmean', 'Sunshine']\n",
      "\n",
      "def get_data_file_parameters(data_type):\n",
      "    base_url = 'http://www.metoffice.gov.uk/climate/uk/datasets/{0}/ranked/UK.txt'\n",
      "    data_url = base_url.format(data_type)\n",
      "    data_target = 'UK_{0}_data.txt'.format(data_type)\n",
      "    return data_url, data_target\n",
      "\n",
      "def task_download_data():\n",
      "    for data_type in data_sets:\n",
      "        data_url, data_target = get_data_file_parameters(data_type)\n",
      "        yield {\n",
      "            'actions': ['wget -O %(targets)s {0}'.format(data_url)],\n",
      "            'targets': [ data_target ],\n",
      "            'name' : data_type,\n",
      "            'uptodate': [timeout(datetime.timedelta(weeks=4))],\n",
      "\n",
      "        }\n",
      "\n",
      "def task_unstack_data():\n",
      "    for data_type in data_sets:\n",
      "        yield {\n",
      "            'actions': ['python unstack_weather_data.py %(dependencies)s > %(targets)s'],\n",
      "            'file_dep': ['UK_{}_data.txt'.format(data_type)],\n",
      "            'targets': ['UK_{}_data.unstacked.txt'.format(data_type)],\n",
      "            'name': 'UK_{}_data.txt'.format(data_type),\n",
      "        }"
     ],
     "language": "python",
     "metadata": {},
     "outputs": [
      {
       "output_type": "stream",
       "stream": "stdout",
       "text": [
        "-- download_data:Tmean\n",
        "-- download_data:Sunshine\n",
        "-- unstack_data:UK_Sunshine_data.txt\n",
        "-- unstack_data:UK_Tmean_data.txt\n"
       ]
      }
     ],
     "prompt_number": 20
    },
    {
     "cell_type": "code",
     "collapsed": false,
     "input": [
      "%%doit\n",
      "import datetime\n",
      "from doit.tools import timeout \n",
      "\n",
      "data_sets = ['Tmean', 'Sunshine', 'Rainfall']\n",
      "\n",
      "def get_data_file_parameters(data_type):\n",
      "    base_url = 'http://www.metoffice.gov.uk/climate/uk/datasets/{0}/ranked/UK.txt'\n",
      "    data_url = base_url.format(data_type)\n",
      "    data_target = 'UK_{0}_data.txt'.format(data_type)\n",
      "    return data_url, data_target\n",
      "\n",
      "def task_download_data():\n",
      "    for data_type in data_sets:\n",
      "        data_url, data_target = get_data_file_parameters(data_type)\n",
      "        yield {\n",
      "            'actions': ['wget -O %(targets)s {0}'.format(data_url)],\n",
      "            'targets': [ data_target ],\n",
      "            'name' : data_type,\n",
      "            'uptodate': [timeout(datetime.timedelta(weeks=4))],\n",
      "\n",
      "        }\n",
      "\n",
      "def task_unstack_data():\n",
      "    for data_type in data_sets:\n",
      "        yield {\n",
      "            'actions': ['python unstack_weather_data.py %(dependencies)s > %(targets)s'],\n",
      "            'file_dep': ['UK_{}_data.txt'.format(data_type)],\n",
      "            'targets': ['UK_{}_data.unstacked.txt'.format(data_type)],\n",
      "            'name': 'UK_{}_data.txt'.format(data_type),\n",
      "        }"
     ],
     "language": "python",
     "metadata": {},
     "outputs": [
      {
       "output_type": "stream",
       "stream": "stdout",
       "text": [
        ".  download_data:Rainfall\n",
        "-- download_data:Tmean\n",
        "-- download_data:Sunshine\n",
        "-- unstack_data:UK_Sunshine_data.txt\n",
        "-- unstack_data:UK_Tmean_data.txt\n",
        ".  unstack_data:UK_Rainfall_data.txt\n"
       ]
      },
      {
       "output_type": "stream",
       "stream": "stderr",
       "text": [
        "--2014-04-04 20:39:48--  http://www.metoffice.gov.uk/climate/uk/datasets/Rainfall/ranked/UK.txt\n",
        "Resolving www.metoffice.gov.uk (www.metoffice.gov.uk)... 23.63.99.216, 23.63.99.234\n",
        "Connecting to www.metoffice.gov.uk (www.metoffice.gov.uk)|23.63.99.216|:80... connected.\n",
        "HTTP request sent, awaiting response... 200 OK\n",
        "Length: 25518 (25K) [text/plain]\n",
        "Saving to: \u2018UK_Rainfall_data.txt\u2019\n",
        "\n",
        "     0K .......... .......... ....                            100% 1.66M=0.01s\n",
        "\n",
        "2014-04-04 20:39:48 (1.66 MB/s) - \u2018UK_Rainfall_data.txt\u2019 saved [25518/25518]\n",
        "\n"
       ]
      }
     ],
     "prompt_number": 21
    },
    {
     "cell_type": "code",
     "collapsed": false,
     "input": [],
     "language": "python",
     "metadata": {},
     "outputs": []
    }
   ],
   "metadata": {}
  }
 ]
}